{
 "cells": [
  {
   "cell_type": "code",
   "execution_count": 23,
   "id": "b9137585-d96c-4e02-8930-173cbc211b0a",
   "metadata": {},
   "outputs": [],
   "source": [
    "import os\n",
    "import gc\n",
    "import sys\n",
    "import pickle\n",
    "import numpy as np\n",
    "import tensorflow as tf\n",
    "from sklearn.metrics import accuracy_score, roc_auc_score\n",
    "from tensorflow.keras.callbacks import ModelCheckpoint\n",
    "from tensorflow.keras.metrics import Precision, Recall\n",
    "from tensorflow.keras.applications import ResNet50\n",
    "from tensorflow.keras.models import Model\n",
    "from tensorflow.keras.layers import Dense, GlobalAveragePooling2D\n",
    "from transformers import TFAutoModelForImageClassification\n",
    "from keras.models import load_model\n",
    "import pandas as pd\n",
    "import numpy as np"
   ]
  },
  {
   "cell_type": "code",
   "execution_count": 21,
   "id": "f78e4071-aa4f-4e8b-ad22-dae36b4a1246",
   "metadata": {},
   "outputs": [],
   "source": [
    "def setup_gpu():\n",
    "    gpus = tf.config.experimental.list_physical_devices('GPU')\n",
    "    if gpus:\n",
    "        try:\n",
    "            tf.config.experimental.set_visible_devices(gpus[0], 'GPU')\n",
    "            tf.config.experimental.set_memory_growth(gpus[0], True)\n",
    "            logical_gpus = tf.config.experimental.list_logical_devices('GPU')\n",
    "            print(f\"Physical GPUs: {gpus}\")\n",
    "            print(f\"Logical GPUs: {logical_gpus}\")\n",
    "        except RuntimeError as e:\n",
    "            print(e)\n",
    "def load_data_from_pickle(filename):\n",
    "    with open(filename, 'rb') as f:\n",
    "        data = pickle.load(f)\n",
    "    images, labels, infos = data\n",
    "    return images, labels, infos\n",
    "\n",
    "def generate_dataset(start, end, train_images, train_labels, batch_size=16):\n",
    "    images = train_images[start:end]\n",
    "    labels = train_labels[start:end]\n",
    "    \n",
    "    if images.shape[-1] == 1:\n",
    "        images = np.repeat(images, 3, axis=-1)\n",
    "    \n",
    "    dataset = tf.data.Dataset.from_tensor_slices((images, labels))\n",
    "    return dataset.batch(batch_size)\n",
    "\n",
    "def create_prediction_label_df(test_pred, test_labels, test_infos):\n",
    "    data = {\n",
    "        'subject_id': [info['subject_id'] for info in test_infos],\n",
    "        'age': [info['age'] for info in test_infos],\n",
    "        'race': [info['race'] for info in test_infos],\n",
    "        'gender': [info['gender'] for info in test_infos],\n",
    "    }\n",
    "\n",
    "    # Assuming each element in test_pred and test_labels is a list/array\n",
    "    for i in range(len(test_pred[0])):\n",
    "        data[f'pred_{i}'] = [pred[i] for pred in test_pred]\n",
    "        data[f'label_{i}'] = [label[i] for label in test_labels]\n",
    "\n",
    "    return pd.DataFrame(data)"
   ]
  },
  {
   "cell_type": "code",
   "execution_count": 3,
   "id": "9b2107b5-3159-41d0-91bd-12cae4261a25",
   "metadata": {
    "scrolled": true
   },
   "outputs": [
    {
     "name": "stderr",
     "output_type": "stream",
     "text": [
      "2024-08-12 22:52:58.793622: I tensorflow/core/common_runtime/gpu/gpu_device.cc:1929] Created device /job:localhost/replica:0/task:0/device:GPU:0 with 21339 MB memory:  -> device: 0, name: NVIDIA GeForce RTX 3090, pci bus id: 0000:65:00.0, compute capability: 8.6\n",
      "2024-08-12 22:52:58.794102: I tensorflow/core/common_runtime/gpu/gpu_device.cc:1929] Created device /job:localhost/replica:0/task:0/device:GPU:1 with 1604 MB memory:  -> device: 1, name: NVIDIA GeForce RTX 3090, pci bus id: 0000:b3:00.0, compute capability: 8.6\n"
     ]
    }
   ],
   "source": [
    "\n",
    "model = load_model('./models/resnetv0/resnet_model_0.keras')"
   ]
  },
  {
   "cell_type": "code",
   "execution_count": 13,
   "id": "ed47f1bb-45eb-4072-a0e5-9b2db1bdd3e0",
   "metadata": {},
   "outputs": [],
   "source": [
    "test_images, test_labels, test_infos= load_data_from_pickle('./new_data/test_data.pkl')"
   ]
  },
  {
   "cell_type": "code",
   "execution_count": 5,
   "id": "457d7aaf-9a75-44ce-851a-7ab5242c60e7",
   "metadata": {},
   "outputs": [],
   "source": [
    "test_images = np.array(test_images)\n",
    "test_labels = np.array(test_labels)\n",
    "if test_images.shape[-1] != 3:\n",
    "    test_images = np.repeat(test_images, 3, axis=-1)"
   ]
  },
  {
   "cell_type": "code",
   "execution_count": 6,
   "id": "b1fe295c-61df-4ef5-920b-8144bcf1464c",
   "metadata": {},
   "outputs": [
    {
     "name": "stdout",
     "output_type": "stream",
     "text": [
      "58386\n"
     ]
    }
   ],
   "source": [
    "print(len(test_images))"
   ]
  },
  {
   "cell_type": "code",
   "execution_count": 7,
   "id": "8a74ccf6-1a76-47be-a42e-bab6e43f5598",
   "metadata": {},
   "outputs": [
    {
     "name": "stderr",
     "output_type": "stream",
     "text": [
      "2024-08-12 22:53:36.431532: I external/local_xla/xla/stream_executor/cuda/cuda_dnn.cc:454] Loaded cuDNN version 8907\n"
     ]
    },
    {
     "name": "stdout",
     "output_type": "stream",
     "text": [
      "750/750 [==============================] - 15s 17ms/step\n"
     ]
    }
   ],
   "source": [
    "test_pred1 = model.predict(test_images[:12000], batch_size = 16)"
   ]
  },
  {
   "cell_type": "code",
   "execution_count": 8,
   "id": "0d4190d9-1abc-4b5b-9cc1-d2bcc06ee6ca",
   "metadata": {},
   "outputs": [
    {
     "name": "stdout",
     "output_type": "stream",
     "text": [
      "750/750 [==============================] - 13s 17ms/step\n"
     ]
    }
   ],
   "source": [
    "test_pred2 = model.predict(test_images[12000:24000], batch_size = 16)"
   ]
  },
  {
   "cell_type": "code",
   "execution_count": 10,
   "id": "d2dda5e6-6f64-407b-a9df-203b4d1df256",
   "metadata": {},
   "outputs": [
    {
     "name": "stdout",
     "output_type": "stream",
     "text": [
      "8597/8597 [==============================] - 100s 12ms/step\n"
     ]
    }
   ],
   "source": [
    "test_pred3 = model.predict(test_images[24000:], batch_size = 4)"
   ]
  },
  {
   "cell_type": "code",
   "execution_count": 11,
   "id": "445d140b-5b67-4ef2-bef0-22da7a525c05",
   "metadata": {},
   "outputs": [],
   "source": [
    "test_pred = np.concatenate((test_pred1, test_pred2, test_pred3), axis=0)"
   ]
  },
  {
   "cell_type": "code",
   "execution_count": 17,
   "id": "7b3e6461-1b4c-40ee-94fd-11bd82417dfe",
   "metadata": {},
   "outputs": [
    {
     "data": {
      "text/plain": [
       "array([0.0561431 , 0.01501172, 0.00117542, 0.00426925, 0.09128474,\n",
       "       0.7594785 ], dtype=float32)"
      ]
     },
     "execution_count": 17,
     "metadata": {},
     "output_type": "execute_result"
    }
   ],
   "source": [
    "test_pred[0]"
   ]
  },
  {
   "cell_type": "code",
   "execution_count": 18,
   "id": "6748aa8c-065c-4ba6-acc2-e2ec0806824e",
   "metadata": {},
   "outputs": [
    {
     "data": {
      "text/plain": [
       "[0, 0, 0, 0, 0, 1]"
      ]
     },
     "execution_count": 18,
     "metadata": {},
     "output_type": "execute_result"
    }
   ],
   "source": [
    "test_labels[0]"
   ]
  },
  {
   "cell_type": "code",
   "execution_count": 19,
   "id": "61ca5f70-b712-48db-aad2-11543d67491d",
   "metadata": {},
   "outputs": [
    {
     "data": {
      "text/plain": [
       "{'gender': 'F', 'age': 68, 'race': 'WHITE', 'subject_id': 11812752}"
      ]
     },
     "execution_count": 19,
     "metadata": {},
     "output_type": "execute_result"
    }
   ],
   "source": [
    "test_infos[0]"
   ]
  },
  {
   "cell_type": "code",
   "execution_count": 24,
   "id": "2de938f6-59c3-4f4b-9656-74a13140439e",
   "metadata": {},
   "outputs": [],
   "source": [
    "df = create_prediction_label_df(test_pred, test_labels, test_infos)"
   ]
  },
  {
   "cell_type": "code",
   "execution_count": 25,
   "id": "f9efb5a6-e1a4-40d1-a075-0aa2ac649036",
   "metadata": {},
   "outputs": [
    {
     "data": {
      "text/html": [
       "<div>\n",
       "<style scoped>\n",
       "    .dataframe tbody tr th:only-of-type {\n",
       "        vertical-align: middle;\n",
       "    }\n",
       "\n",
       "    .dataframe tbody tr th {\n",
       "        vertical-align: top;\n",
       "    }\n",
       "\n",
       "    .dataframe thead th {\n",
       "        text-align: right;\n",
       "    }\n",
       "</style>\n",
       "<table border=\"1\" class=\"dataframe\">\n",
       "  <thead>\n",
       "    <tr style=\"text-align: right;\">\n",
       "      <th></th>\n",
       "      <th>subject_id</th>\n",
       "      <th>age</th>\n",
       "      <th>race</th>\n",
       "      <th>gender</th>\n",
       "      <th>pred_0</th>\n",
       "      <th>label_0</th>\n",
       "      <th>pred_1</th>\n",
       "      <th>label_1</th>\n",
       "      <th>pred_2</th>\n",
       "      <th>label_2</th>\n",
       "      <th>pred_3</th>\n",
       "      <th>label_3</th>\n",
       "      <th>pred_4</th>\n",
       "      <th>label_4</th>\n",
       "      <th>pred_5</th>\n",
       "      <th>label_5</th>\n",
       "    </tr>\n",
       "  </thead>\n",
       "  <tbody>\n",
       "    <tr>\n",
       "      <th>0</th>\n",
       "      <td>11812752</td>\n",
       "      <td>68</td>\n",
       "      <td>WHITE</td>\n",
       "      <td>F</td>\n",
       "      <td>0.056143</td>\n",
       "      <td>0</td>\n",
       "      <td>0.015012</td>\n",
       "      <td>0</td>\n",
       "      <td>0.001175</td>\n",
       "      <td>0</td>\n",
       "      <td>0.004269</td>\n",
       "      <td>0</td>\n",
       "      <td>0.091285</td>\n",
       "      <td>0</td>\n",
       "      <td>0.759479</td>\n",
       "      <td>1</td>\n",
       "    </tr>\n",
       "    <tr>\n",
       "      <th>1</th>\n",
       "      <td>11812752</td>\n",
       "      <td>68</td>\n",
       "      <td>WHITE</td>\n",
       "      <td>F</td>\n",
       "      <td>0.051060</td>\n",
       "      <td>0</td>\n",
       "      <td>0.006028</td>\n",
       "      <td>0</td>\n",
       "      <td>0.001799</td>\n",
       "      <td>0</td>\n",
       "      <td>0.006515</td>\n",
       "      <td>0</td>\n",
       "      <td>0.050387</td>\n",
       "      <td>0</td>\n",
       "      <td>0.863849</td>\n",
       "      <td>1</td>\n",
       "    </tr>\n",
       "    <tr>\n",
       "      <th>2</th>\n",
       "      <td>11812752</td>\n",
       "      <td>68</td>\n",
       "      <td>WHITE</td>\n",
       "      <td>F</td>\n",
       "      <td>0.021372</td>\n",
       "      <td>0</td>\n",
       "      <td>0.004059</td>\n",
       "      <td>0</td>\n",
       "      <td>0.000743</td>\n",
       "      <td>0</td>\n",
       "      <td>0.004475</td>\n",
       "      <td>0</td>\n",
       "      <td>0.092967</td>\n",
       "      <td>0</td>\n",
       "      <td>0.849508</td>\n",
       "      <td>1</td>\n",
       "    </tr>\n",
       "    <tr>\n",
       "      <th>3</th>\n",
       "      <td>11812752</td>\n",
       "      <td>68</td>\n",
       "      <td>WHITE</td>\n",
       "      <td>F</td>\n",
       "      <td>0.031842</td>\n",
       "      <td>0</td>\n",
       "      <td>0.001862</td>\n",
       "      <td>0</td>\n",
       "      <td>0.000797</td>\n",
       "      <td>0</td>\n",
       "      <td>0.006196</td>\n",
       "      <td>0</td>\n",
       "      <td>0.047191</td>\n",
       "      <td>0</td>\n",
       "      <td>0.934808</td>\n",
       "      <td>1</td>\n",
       "    </tr>\n",
       "    <tr>\n",
       "      <th>4</th>\n",
       "      <td>15197921</td>\n",
       "      <td>-1</td>\n",
       "      <td></td>\n",
       "      <td></td>\n",
       "      <td>0.034598</td>\n",
       "      <td>0</td>\n",
       "      <td>0.010697</td>\n",
       "      <td>0</td>\n",
       "      <td>0.000503</td>\n",
       "      <td>0</td>\n",
       "      <td>0.005243</td>\n",
       "      <td>0</td>\n",
       "      <td>0.077575</td>\n",
       "      <td>0</td>\n",
       "      <td>0.871780</td>\n",
       "      <td>1</td>\n",
       "    </tr>\n",
       "    <tr>\n",
       "      <th>...</th>\n",
       "      <td>...</td>\n",
       "      <td>...</td>\n",
       "      <td>...</td>\n",
       "      <td>...</td>\n",
       "      <td>...</td>\n",
       "      <td>...</td>\n",
       "      <td>...</td>\n",
       "      <td>...</td>\n",
       "      <td>...</td>\n",
       "      <td>...</td>\n",
       "      <td>...</td>\n",
       "      <td>...</td>\n",
       "      <td>...</td>\n",
       "      <td>...</td>\n",
       "      <td>...</td>\n",
       "      <td>...</td>\n",
       "    </tr>\n",
       "    <tr>\n",
       "      <th>58381</th>\n",
       "      <td>11183154</td>\n",
       "      <td>69</td>\n",
       "      <td>WHITE</td>\n",
       "      <td>M</td>\n",
       "      <td>0.104890</td>\n",
       "      <td>0</td>\n",
       "      <td>0.011576</td>\n",
       "      <td>0</td>\n",
       "      <td>0.001189</td>\n",
       "      <td>0</td>\n",
       "      <td>0.003390</td>\n",
       "      <td>0</td>\n",
       "      <td>0.057218</td>\n",
       "      <td>0</td>\n",
       "      <td>0.851656</td>\n",
       "      <td>1</td>\n",
       "    </tr>\n",
       "    <tr>\n",
       "      <th>58382</th>\n",
       "      <td>16736626</td>\n",
       "      <td>46</td>\n",
       "      <td>WHITE</td>\n",
       "      <td>M</td>\n",
       "      <td>0.099216</td>\n",
       "      <td>0</td>\n",
       "      <td>0.071405</td>\n",
       "      <td>0</td>\n",
       "      <td>0.004492</td>\n",
       "      <td>0</td>\n",
       "      <td>0.001722</td>\n",
       "      <td>0</td>\n",
       "      <td>0.200777</td>\n",
       "      <td>0</td>\n",
       "      <td>0.613287</td>\n",
       "      <td>1</td>\n",
       "    </tr>\n",
       "    <tr>\n",
       "      <th>58383</th>\n",
       "      <td>16736626</td>\n",
       "      <td>46</td>\n",
       "      <td>WHITE</td>\n",
       "      <td>M</td>\n",
       "      <td>0.439834</td>\n",
       "      <td>0</td>\n",
       "      <td>0.023786</td>\n",
       "      <td>0</td>\n",
       "      <td>0.000858</td>\n",
       "      <td>0</td>\n",
       "      <td>0.007120</td>\n",
       "      <td>0</td>\n",
       "      <td>0.112077</td>\n",
       "      <td>0</td>\n",
       "      <td>0.549323</td>\n",
       "      <td>1</td>\n",
       "    </tr>\n",
       "    <tr>\n",
       "      <th>58384</th>\n",
       "      <td>16736626</td>\n",
       "      <td>46</td>\n",
       "      <td>WHITE</td>\n",
       "      <td>M</td>\n",
       "      <td>0.446967</td>\n",
       "      <td>0</td>\n",
       "      <td>0.284390</td>\n",
       "      <td>0</td>\n",
       "      <td>0.009412</td>\n",
       "      <td>0</td>\n",
       "      <td>0.022791</td>\n",
       "      <td>0</td>\n",
       "      <td>0.294759</td>\n",
       "      <td>0</td>\n",
       "      <td>0.150314</td>\n",
       "      <td>0</td>\n",
       "    </tr>\n",
       "    <tr>\n",
       "      <th>58385</th>\n",
       "      <td>16736626</td>\n",
       "      <td>46</td>\n",
       "      <td>WHITE</td>\n",
       "      <td>M</td>\n",
       "      <td>0.430079</td>\n",
       "      <td>0</td>\n",
       "      <td>0.484221</td>\n",
       "      <td>0</td>\n",
       "      <td>0.052301</td>\n",
       "      <td>1</td>\n",
       "      <td>0.011312</td>\n",
       "      <td>0</td>\n",
       "      <td>0.243240</td>\n",
       "      <td>0</td>\n",
       "      <td>0.158633</td>\n",
       "      <td>0</td>\n",
       "    </tr>\n",
       "  </tbody>\n",
       "</table>\n",
       "<p>58386 rows × 16 columns</p>\n",
       "</div>"
      ],
      "text/plain": [
       "       subject_id  age   race gender    pred_0  label_0    pred_1  label_1  \\\n",
       "0        11812752   68  WHITE      F  0.056143        0  0.015012        0   \n",
       "1        11812752   68  WHITE      F  0.051060        0  0.006028        0   \n",
       "2        11812752   68  WHITE      F  0.021372        0  0.004059        0   \n",
       "3        11812752   68  WHITE      F  0.031842        0  0.001862        0   \n",
       "4        15197921   -1                0.034598        0  0.010697        0   \n",
       "...           ...  ...    ...    ...       ...      ...       ...      ...   \n",
       "58381    11183154   69  WHITE      M  0.104890        0  0.011576        0   \n",
       "58382    16736626   46  WHITE      M  0.099216        0  0.071405        0   \n",
       "58383    16736626   46  WHITE      M  0.439834        0  0.023786        0   \n",
       "58384    16736626   46  WHITE      M  0.446967        0  0.284390        0   \n",
       "58385    16736626   46  WHITE      M  0.430079        0  0.484221        0   \n",
       "\n",
       "         pred_2  label_2    pred_3  label_3    pred_4  label_4    pred_5  \\\n",
       "0      0.001175        0  0.004269        0  0.091285        0  0.759479   \n",
       "1      0.001799        0  0.006515        0  0.050387        0  0.863849   \n",
       "2      0.000743        0  0.004475        0  0.092967        0  0.849508   \n",
       "3      0.000797        0  0.006196        0  0.047191        0  0.934808   \n",
       "4      0.000503        0  0.005243        0  0.077575        0  0.871780   \n",
       "...         ...      ...       ...      ...       ...      ...       ...   \n",
       "58381  0.001189        0  0.003390        0  0.057218        0  0.851656   \n",
       "58382  0.004492        0  0.001722        0  0.200777        0  0.613287   \n",
       "58383  0.000858        0  0.007120        0  0.112077        0  0.549323   \n",
       "58384  0.009412        0  0.022791        0  0.294759        0  0.150314   \n",
       "58385  0.052301        1  0.011312        0  0.243240        0  0.158633   \n",
       "\n",
       "       label_5  \n",
       "0            1  \n",
       "1            1  \n",
       "2            1  \n",
       "3            1  \n",
       "4            1  \n",
       "...        ...  \n",
       "58381        1  \n",
       "58382        1  \n",
       "58383        1  \n",
       "58384        0  \n",
       "58385        0  \n",
       "\n",
       "[58386 rows x 16 columns]"
      ]
     },
     "execution_count": 25,
     "metadata": {},
     "output_type": "execute_result"
    }
   ],
   "source": [
    "df"
   ]
  },
  {
   "cell_type": "code",
   "execution_count": 28,
   "id": "925eb13c-4a13-4c6f-afa1-2fa3405a5efc",
   "metadata": {},
   "outputs": [],
   "source": [
    "df.to_csv('./new_data/Test_set_prediction.csv', index=False)"
   ]
  },
  {
   "cell_type": "code",
   "execution_count": null,
   "id": "315cf5aa-02b9-42b6-8a89-5f29466ea416",
   "metadata": {},
   "outputs": [],
   "source": []
  }
 ],
 "metadata": {
  "kernelspec": {
   "display_name": "gpu_env",
   "language": "python",
   "name": "gpu_env"
  },
  "language_info": {
   "codemirror_mode": {
    "name": "ipython",
    "version": 3
   },
   "file_extension": ".py",
   "mimetype": "text/x-python",
   "name": "python",
   "nbconvert_exporter": "python",
   "pygments_lexer": "ipython3",
   "version": "3.9.19"
  }
 },
 "nbformat": 4,
 "nbformat_minor": 5
}
